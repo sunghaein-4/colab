{
  "nbformat": 4,
  "nbformat_minor": 0,
  "metadata": {
    "colab": {
      "provenance": [],
      "authorship_tag": "ABX9TyMH2MZUteD+1JgfSjIS2wbP",
      "include_colab_link": true
    },
    "kernelspec": {
      "name": "python3",
      "display_name": "Python 3"
    },
    "language_info": {
      "name": "python"
    }
  },
  "cells": [
    {
      "cell_type": "markdown",
      "metadata": {
        "id": "view-in-github",
        "colab_type": "text"
      },
      "source": [
        "<a href=\"https://colab.research.google.com/github/sunghaein-4/colab/blob/main/%EC%88%98%ED%96%89.ipynb\" target=\"_parent\"><img src=\"https://colab.research.google.com/assets/colab-badge.svg\" alt=\"Open In Colab\"/></a>"
      ]
    },
    {
      "cell_type": "code",
      "execution_count": 1,
      "metadata": {
        "colab": {
          "base_uri": "https://localhost:8080/",
          "height": 137
        },
        "id": "t7s5BMUINGwJ",
        "outputId": "d0201761-0769-43ad-a5d3-b71c4243d9de"
      },
      "outputs": [
        {
          "output_type": "error",
          "ename": "SyntaxError",
          "evalue": "ignored",
          "traceback": [
            "\u001b[0;36m  File \u001b[0;32m\"<ipython-input-1-849aa02f9a59>\"\u001b[0;36m, line \u001b[0;32m1\u001b[0m\n\u001b[0;31m    singer =\u001b[0m\n\u001b[0m             ^\u001b[0m\n\u001b[0;31mSyntaxError\u001b[0m\u001b[0;31m:\u001b[0m invalid syntax\n"
          ]
        }
      ],
      "source": [
        "singer = {}\n",
        "singer['이름'] = '트와이스'\n",
        "singer['구성원수'] = 9\n",
        "singer['데뷔'] = '서바이벌 식스틴'\n",
        "singer['대표곡'] = 'CRY FOR ME'\n",
        "\n",
        "for k in singer .keys() :\n",
        "  print(k, \"==>\", singer[k])"
      ]
    },
    {
      "cell_type": "code",
      "source": [
        "{}"
      ],
      "metadata": {
        "id": "Ux7rRw3oO_kV"
      },
      "execution_count": null,
      "outputs": []
    }
  ]
}