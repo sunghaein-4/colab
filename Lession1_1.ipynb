{
  "nbformat": 4,
  "nbformat_minor": 0,
  "metadata": {
    "colab": {
      "name": "Lession1-1.ipynb",
      "provenance": [],
      "authorship_tag": "ABX9TyOMWeSJdRCUJTL18uoEU1ok",
      "include_colab_link": true
    },
    "kernelspec": {
      "name": "python3",
      "display_name": "Python 3"
    },
    "language_info": {
      "name": "python"
    }
  },
  "cells": [
    {
      "cell_type": "markdown",
      "metadata": {
        "id": "view-in-github",
        "colab_type": "text"
      },
      "source": [
        "<a href=\"https://colab.research.google.com/github/sunghaein-4/colab/blob/main/Lession1_1.ipynb\" target=\"_parent\"><img src=\"https://colab.research.google.com/assets/colab-badge.svg\" alt=\"Open In Colab\"/></a>"
      ]
    },
    {
      "cell_type": "code",
      "execution_count": 1,
      "metadata": {
        "colab": {
          "base_uri": "https://localhost:8080/"
        },
        "id": "z6DHHH35Gd1m",
        "outputId": "07d3b33b-fdf5-4ede-e848-c8cf892fd4a4"
      },
      "outputs": [
        {
          "output_type": "stream",
          "name": "stdout",
          "text": [
            "400\n"
          ]
        }
      ],
      "source": [
        "print(100+300)\n"
      ]
    },
    {
      "cell_type": "markdown",
      "source": [
        "#파이썬 시작하기\n",
        "\n",
        "\n",
        "*  프로그램\n",
        "   * 컴퓨터와 스마트폰에 들어 있는 많은 소프트웨어\n",
        "    유튜브, 메시지, 전화, 카카오톡 등\n",
        "  * 프로그램, 소프트웨어(Software), 애플리케이션(App i cation), 앱(App), 응용 프로그램 모두 동일한 용어입니다.\n",
        "*프로그래밍 언어(programming language)\n",
        " * 사람이 이해하는 말을 언어라고 부르듯이 컴퓨터가 이해하는 언어를 의미\n",
        "*프로그래머(Programmer)\n",
        " * 프로그래밍 언어를 사용하여 소프트웨어나 앱을 만드는 직업을 가진 사람을 의미\n"
      ],
      "metadata": {
        "id": "fbQYPdyGGjMW"
      }
    },
    {
      "cell_type": "code",
      "source": [
        "print(200/3*4)"
      ],
      "metadata": {
        "colab": {
          "base_uri": "https://localhost:8080/"
        },
        "id": "7_DkWhBOPQrU",
        "outputId": "405cfd6e-10bb-49bb-fa56-666fdbf36efc"
      },
      "execution_count": 2,
      "outputs": [
        {
          "output_type": "stream",
          "name": "stdout",
          "text": [
            "266.6666666666667\n"
          ]
        }
      ]
    },
    {
      "cell_type": "code",
      "source": [
        "print(\"난생처음 파이썬을\")\n",
        "print(\"열심히 공부 중입니다~\")\n",
        "print(\"이젠 저도 파이썬 프로그래머입니다.^^\")"
      ],
      "metadata": {
        "colab": {
          "base_uri": "https://localhost:8080/"
        },
        "id": "zsKlALB9PU10",
        "outputId": "6e71c637-19ef-448b-9102-21292a07ab7d"
      },
      "execution_count": 3,
      "outputs": [
        {
          "output_type": "stream",
          "name": "stdout",
          "text": [
            "난생처음 파이썬을\n",
            "열심히 공부 중입니다~\n",
            "이젠 저도 파이썬 프로그래머입니다.^^\n"
          ]
        }
      ]
    },
    {
      "cell_type": "code",
      "source": [
        ""
      ],
      "metadata": {
        "id": "DpPLxylYQABw"
      },
      "execution_count": null,
      "outputs": []
    }
  ]
}