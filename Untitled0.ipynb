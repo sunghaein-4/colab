{
  "nbformat": 4,
  "nbformat_minor": 0,
  "metadata": {
    "colab": {
      "name": "Untitled0.ipynb",
      "provenance": [],
      "authorship_tag": "ABX9TyMBFQ1dTYScS+a/EEKMJ36k",
      "include_colab_link": true
    },
    "kernelspec": {
      "name": "python3",
      "display_name": "Python 3"
    },
    "language_info": {
      "name": "python"
    }
  },
  "cells": [
    {
      "cell_type": "markdown",
      "metadata": {
        "id": "view-in-github",
        "colab_type": "text"
      },
      "source": [
        "<a href=\"https://colab.research.google.com/github/sunghaein-4/colab/blob/main/Untitled0.ipynb\" target=\"_parent\"><img src=\"https://colab.research.google.com/assets/colab-badge.svg\" alt=\"Open In Colab\"/></a>"
      ]
    },
    {
      "cell_type": "markdown",
      "source": [
        "꼬부기 예제"
      ],
      "metadata": {
        "id": "NDZ1YtbXIKlT"
      }
    },
    {
      "cell_type": "code",
      "execution_count": 8,
      "metadata": {
        "colab": {
          "base_uri": "https://localhost:8080/",
          "height": 1000
        },
        "id": "N4HVSWxCHyx8",
        "outputId": "1ee37b1e-bb16-4c16-b402-54703f63499d"
      },
      "outputs": [
        {
          "output_type": "stream",
          "name": "stdout",
          "text": [
            "Looking in indexes: https://pypi.org/simple, https://us-python.pkg.dev/colab-wheels/public/simple/\n",
            "Requirement already satisfied: Colab in /usr/local/lib/python3.7/dist-packages (1.13.5)\n",
            "Requirement already satisfied: Turtle in /usr/local/lib/python3.7/dist-packages (0.0.1)\n",
            "Requirement already satisfied: django-hitcounter>=0.1.1 in /usr/local/lib/python3.7/dist-packages (from Colab) (0.1.1)\n",
            "Requirement already satisfied: django-taggit>=0.12.1 in /usr/local/lib/python3.7/dist-packages (from Colab) (0.22.2)\n",
            "Requirement already satisfied: Django<1.8,>=1.7.10 in /usr/local/lib/python3.7/dist-packages (from Colab) (1.7.11)\n",
            "Requirement already satisfied: django-revproxy[diazo]>=0.9.9 in /usr/local/lib/python3.7/dist-packages (from Colab) (0.10.0)\n",
            "Requirement already satisfied: html2text>=3.200.3 in /usr/local/lib/python3.7/dist-packages (from Colab) (2020.1.16)\n",
            "Requirement already satisfied: pytz>=2011n in /usr/local/lib/python3.7/dist-packages (from Colab) (2022.2.1)\n",
            "Requirement already satisfied: Whoosh>=2.7.0 in /usr/local/lib/python3.7/dist-packages (from Colab) (2.7.4)\n",
            "Requirement already satisfied: django-haystack>=2.2 in /usr/local/lib/python3.7/dist-packages (from Colab) (2.4.1)\n",
            "Requirement already satisfied: celery[redis]>=3.1.2 in /usr/local/lib/python3.7/dist-packages (from Colab) (5.2.7)\n",
            "Requirement already satisfied: etiquetando==0.1 in /usr/local/lib/python3.7/dist-packages (from Colab) (0.1)\n",
            "Requirement already satisfied: chardet>=2.3.0 in /usr/local/lib/python3.7/dist-packages (from Colab) (3.0.4)\n",
            "Requirement already satisfied: requests>=2.7.0 in /usr/local/lib/python3.7/dist-packages (from Colab) (2.23.0)\n",
            "Requirement already satisfied: stemming>=1.0 in /usr/local/lib/python3.7/dist-packages (from etiquetando==0.1->Colab) (1.0.1)\n",
            "Requirement already satisfied: repoze.lru>=0.6 in /usr/local/lib/python3.7/dist-packages (from etiquetando==0.1->Colab) (0.7)\n",
            "Requirement already satisfied: click-repl>=0.2.0 in /usr/local/lib/python3.7/dist-packages (from celery[redis]>=3.1.2->Colab) (0.2.0)\n",
            "Requirement already satisfied: importlib-metadata>=1.4.0 in /usr/local/lib/python3.7/dist-packages (from celery[redis]>=3.1.2->Colab) (4.12.0)\n",
            "Requirement already satisfied: kombu<6.0,>=5.2.3 in /usr/local/lib/python3.7/dist-packages (from celery[redis]>=3.1.2->Colab) (5.2.4)\n",
            "Requirement already satisfied: click-plugins>=1.1.1 in /usr/local/lib/python3.7/dist-packages (from celery[redis]>=3.1.2->Colab) (1.1.1)\n",
            "Requirement already satisfied: click<9.0,>=8.0.3 in /usr/local/lib/python3.7/dist-packages (from celery[redis]>=3.1.2->Colab) (8.1.3)\n",
            "Requirement already satisfied: billiard<4.0,>=3.6.4.0 in /usr/local/lib/python3.7/dist-packages (from celery[redis]>=3.1.2->Colab) (3.6.4.0)\n",
            "Requirement already satisfied: click-didyoumean>=0.0.3 in /usr/local/lib/python3.7/dist-packages (from celery[redis]>=3.1.2->Colab) (0.3.0)\n",
            "Requirement already satisfied: vine<6.0,>=5.0.0 in /usr/local/lib/python3.7/dist-packages (from celery[redis]>=3.1.2->Colab) (5.0.0)\n",
            "Requirement already satisfied: redis!=4.0.0,!=4.0.1,>=3.4.1 in /usr/local/lib/python3.7/dist-packages (from celery[redis]>=3.1.2->Colab) (4.3.4)\n",
            "Requirement already satisfied: prompt-toolkit in /usr/local/lib/python3.7/dist-packages (from click-repl>=0.2.0->celery[redis]>=3.1.2->Colab) (2.0.10)\n",
            "Requirement already satisfied: six in /usr/local/lib/python3.7/dist-packages (from click-repl>=0.2.0->celery[redis]>=3.1.2->Colab) (1.15.0)\n",
            "Requirement already satisfied: urllib3>=1.12 in /usr/local/lib/python3.7/dist-packages (from django-revproxy[diazo]>=0.9.9->Colab) (1.24.3)\n",
            "Requirement already satisfied: diazo>=1.0.5 in /usr/local/lib/python3.7/dist-packages (from django-revproxy[diazo]>=0.9.9->Colab) (1.4.2)\n",
            "Requirement already satisfied: lxml>=3.4 in /usr/local/lib/python3.7/dist-packages (from django-revproxy[diazo]>=0.9.9->Colab) (4.9.1)\n",
            "Requirement already satisfied: cssselect in /usr/local/lib/python3.7/dist-packages (from diazo>=1.0.5->django-revproxy[diazo]>=0.9.9->Colab) (1.1.0)\n",
            "Requirement already satisfied: future in /usr/local/lib/python3.7/dist-packages (from diazo>=1.0.5->django-revproxy[diazo]>=0.9.9->Colab) (0.16.0)\n",
            "Requirement already satisfied: typing-extensions>=3.6.4 in /usr/local/lib/python3.7/dist-packages (from importlib-metadata>=1.4.0->celery[redis]>=3.1.2->Colab) (4.1.1)\n",
            "Requirement already satisfied: zipp>=0.5 in /usr/local/lib/python3.7/dist-packages (from importlib-metadata>=1.4.0->celery[redis]>=3.1.2->Colab) (3.8.1)\n",
            "Requirement already satisfied: amqp<6.0.0,>=5.0.9 in /usr/local/lib/python3.7/dist-packages (from kombu<6.0,>=5.2.3->celery[redis]>=3.1.2->Colab) (5.1.1)\n",
            "Requirement already satisfied: cached-property in /usr/local/lib/python3.7/dist-packages (from kombu<6.0,>=5.2.3->celery[redis]>=3.1.2->Colab) (1.5.2)\n",
            "Requirement already satisfied: packaging>=20.4 in /usr/local/lib/python3.7/dist-packages (from redis!=4.0.0,!=4.0.1,>=3.4.1->celery[redis]>=3.1.2->Colab) (21.3)\n",
            "Requirement already satisfied: deprecated>=1.2.3 in /usr/local/lib/python3.7/dist-packages (from redis!=4.0.0,!=4.0.1,>=3.4.1->celery[redis]>=3.1.2->Colab) (1.2.13)\n",
            "Requirement already satisfied: async-timeout>=4.0.2 in /usr/local/lib/python3.7/dist-packages (from redis!=4.0.0,!=4.0.1,>=3.4.1->celery[redis]>=3.1.2->Colab) (4.0.2)\n",
            "Requirement already satisfied: wrapt<2,>=1.10 in /usr/local/lib/python3.7/dist-packages (from deprecated>=1.2.3->redis!=4.0.0,!=4.0.1,>=3.4.1->celery[redis]>=3.1.2->Colab) (1.14.1)\n",
            "Requirement already satisfied: pyparsing!=3.0.5,>=2.0.2 in /usr/local/lib/python3.7/dist-packages (from packaging>=20.4->redis!=4.0.0,!=4.0.1,>=3.4.1->celery[redis]>=3.1.2->Colab) (3.0.9)\n",
            "Requirement already satisfied: certifi>=2017.4.17 in /usr/local/lib/python3.7/dist-packages (from requests>=2.7.0->Colab) (2022.6.15)\n",
            "Requirement already satisfied: idna<3,>=2.5 in /usr/local/lib/python3.7/dist-packages (from requests>=2.7.0->Colab) (2.10)\n",
            "Requirement already satisfied: PyYAML>=3.08 in /usr/local/lib/python3.7/dist-packages (from Turtle) (6.0)\n",
            "Requirement already satisfied: wcwidth in /usr/local/lib/python3.7/dist-packages (from prompt-toolkit->click-repl>=0.2.0->celery[redis]>=3.1.2->Colab) (0.2.5)\n"
          ]
        },
        {
          "output_type": "error",
          "ename": "ModuleNotFoundError",
          "evalue": "ignored",
          "traceback": [
            "\u001b[0;31m---------------------------------------------------------------------------\u001b[0m",
            "\u001b[0;31mModuleNotFoundError\u001b[0m                       Traceback (most recent call last)",
            "\u001b[0;32m<ipython-input-8-7467d219a5dd>\u001b[0m in \u001b[0;36m<module>\u001b[0;34m\u001b[0m\n\u001b[1;32m      1\u001b[0m \u001b[0mget_ipython\u001b[0m\u001b[0;34m(\u001b[0m\u001b[0;34m)\u001b[0m\u001b[0;34m.\u001b[0m\u001b[0msystem\u001b[0m\u001b[0;34m(\u001b[0m\u001b[0;34m'pip3 install Colab Turtle'\u001b[0m\u001b[0;34m)\u001b[0m\u001b[0;34m\u001b[0m\u001b[0;34m\u001b[0m\u001b[0m\n\u001b[0;32m----> 2\u001b[0;31m \u001b[0;32mimport\u001b[0m \u001b[0mColabTurtle\u001b[0m\u001b[0;34m.\u001b[0m\u001b[0mTurtle\u001b[0m \u001b[0;32mas\u001b[0m \u001b[0mturtle\u001b[0m\u001b[0;34m\u001b[0m\u001b[0;34m\u001b[0m\u001b[0m\n\u001b[0m\u001b[1;32m      3\u001b[0m \u001b[0mturtle\u001b[0m\u001b[0;34m.\u001b[0m\u001b[0minitializeTurtle\u001b[0m\u001b[0;34m(\u001b[0m\u001b[0;34m)\u001b[0m\u001b[0;34m\u001b[0m\u001b[0;34m\u001b[0m\u001b[0m\n\u001b[1;32m      4\u001b[0m \u001b[0;34m\u001b[0m\u001b[0m\n\u001b[1;32m      5\u001b[0m \u001b[0mx\u001b[0m \u001b[0;34m=\u001b[0m \u001b[0mint\u001b[0m\u001b[0;34m(\u001b[0m\u001b[0minput\u001b[0m\u001b[0;34m(\u001b[0m\u001b[0;34m\"이동할 X의 위치 : \"\u001b[0m\u001b[0;34m)\u001b[0m\u001b[0;34m)\u001b[0m\u001b[0;34m\u001b[0m\u001b[0;34m\u001b[0m\u001b[0m\n",
            "\u001b[0;31mModuleNotFoundError\u001b[0m: No module named 'ColabTurtle'",
            "",
            "\u001b[0;31m---------------------------------------------------------------------------\u001b[0;32m\nNOTE: If your import is failing due to a missing package, you can\nmanually install dependencies using either !pip or !apt.\n\nTo view examples of installing some common dependencies, click the\n\"Open Examples\" button below.\n\u001b[0;31m---------------------------------------------------------------------------\u001b[0m\n"
          ],
          "errorDetails": {
            "actions": [
              {
                "action": "open_url",
                "actionText": "Open Examples",
                "url": "/notebooks/snippets/importing_libraries.ipynb"
              }
            ]
          }
        }
      ],
      "source": [
        "!pip3 install Colab Turtle\n",
        "import ColabTurtle.Turtle as turtle\n",
        "turtle.initializeTurtle()\n",
        "\n",
        "x = int(input(\"이동할 X의 위치 : \"))\n",
        "y = int(input(\"이동할 y의 위치 : \"))\n",
        "text = input(\"쓰고 싶은 글자 : \")\n",
        "turtle.penup()\n",
        "turtle.goto(x,y)\n",
        "turtle.write(text)"
      ]
    }
  ]
}