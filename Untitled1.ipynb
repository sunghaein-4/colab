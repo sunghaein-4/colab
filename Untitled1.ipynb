{
  "nbformat": 4,
  "nbformat_minor": 0,
  "metadata": {
    "colab": {
      "name": "Untitled1.ipynb",
      "provenance": [],
      "authorship_tag": "ABX9TyMLiuqn6Jo7EOxvhxNORhjN",
      "include_colab_link": true
    },
    "kernelspec": {
      "name": "python3",
      "display_name": "Python 3"
    },
    "language_info": {
      "name": "python"
    }
  },
  "cells": [
    {
      "cell_type": "markdown",
      "metadata": {
        "id": "view-in-github",
        "colab_type": "text"
      },
      "source": [
        "<a href=\"https://colab.research.google.com/github/sunghaein-4/colab/blob/main/Untitled1.ipynb\" target=\"_parent\"><img src=\"https://colab.research.google.com/assets/colab-badge.svg\" alt=\"Open In Colab\"/></a>"
      ]
    },
    {
      "cell_type": "code",
      "execution_count": 5,
      "metadata": {
        "colab": {
          "base_uri": "https://localhost:8080/"
        },
        "id": "nG0uLRlDRmCM",
        "outputId": "5236aff4-9c59-46c2-93d9-81fd6207cdba"
      },
      "outputs": [
        {
          "output_type": "stream",
          "name": "stdout",
          "text": [
            "점수를 입력 : 40\n",
            "40 짝수입니다 .\n"
          ]
        }
      ],
      "source": [
        "num = int(input(\"점수를 입력 : \"))\n",
        "if(num % 2) == 0 :\n",
        "  print(num, \"짝수입니다 .\")\n",
        "else :\n",
        " print(num, \"홀수입니다 .\")"
      ]
    },
    {
      "cell_type": "markdown",
      "source": [
        "랜덤 함수"
      ],
      "metadata": {
        "id": "zG1sm9pkU4OC"
      }
    },
    {
      "cell_type": "code",
      "source": [
        "import random\n",
        "\n",
        "com_number = random.randint(1,45)\n",
        "print(\"** 컴퓨터가 생각한 숫자를 맞추는 게임 **\")\n",
        "print(\"숫자는 1부터 45까지 입니다.\")\n",
        "user_number = int(input(\"숫자를 입력 : \"))\n",
        "\n",
        "while com_number != user_number : \n",
        "  user_number = int(input(\"숫자를 입력 : \"))\n",
        "  if com_number > user_number : \n",
        "    print(\"입력한 숫자가 작습니다. \")\n",
        "  elif com_number < user_number : \n",
        "   print(\"입력한 숫자가 큽니다.\")\n",
        "  else : \n",
        "    print(\"정답^^ \") "
      ],
      "metadata": {
        "colab": {
          "base_uri": "https://localhost:8080/"
        },
        "id": "deLkZFE_S4HB",
        "outputId": "b34f078b-4cee-43c4-995e-1815601973da"
      },
      "execution_count": 10,
      "outputs": [
        {
          "output_type": "stream",
          "name": "stdout",
          "text": [
            "** 컴퓨터가 생각한 숫자를 맞추는 게임 **\n",
            "숫자는 1부터 45까지 입니다.\n",
            "숫자를 입력 : 3\n",
            "숫자를 입력 : 4\n",
            "입력한 숫자가 작습니다. \n",
            "숫자를 입력 : 5\n",
            "입력한 숫자가 작습니다. \n",
            "숫자를 입력 : 7\n",
            "입력한 숫자가 작습니다. \n",
            "숫자를 입력 : 8\n",
            "입력한 숫자가 작습니다. \n",
            "숫자를 입력 : 35\n",
            "입력한 숫자가 큽니다.\n",
            "숫자를 입력 : 20\n",
            "입력한 숫자가 작습니다. \n",
            "숫자를 입력 : 15\n",
            "입력한 숫자가 작습니다. \n",
            "숫자를 입력 : 25\n",
            "입력한 숫자가 작습니다. \n",
            "숫자를 입력 : 22\n",
            "입력한 숫자가 작습니다. \n",
            "숫자를 입력 : 26\n",
            "입력한 숫자가 작습니다. \n",
            "숫자를 입력 : 27\n",
            "입력한 숫자가 작습니다. \n",
            "숫자를 입력 : 28\n",
            "입력한 숫자가 작습니다. \n",
            "숫자를 입력 : 29\n",
            "입력한 숫자가 작습니다. \n",
            "숫자를 입력 : 30\n",
            "정답^^ \n"
          ]
        }
      ]
    },
    {
      "cell_type": "markdown",
      "source": [
        "가위바위보 게임"
      ],
      "metadata": {
        "id": "XE-fvMeFYDSL"
      }
    },
    {
      "cell_type": "code",
      "source": [
        "import random\n",
        "print(\"** 가위 바위 보 게임 **\")\n",
        "user_player = input(\"가위/바위/보 중 하나를 입력하세요 ==> \")\n",
        "coumt = 7\n",
        "while count > 0 :\n",
        "  com_player = random.choice([\"가위\", \"바위\", \"보\"])\n",
        "  user_player = input(\"가위/바위/보 중 하나를 입력하세요 ==> \")\n",
        "  if(com_player == user_player) :\n",
        "    print(\"비겼다\")\n",
        "  elif ((com_player == \"가위\") and (user_player == \"바위\")) or \\\n",
        "   ((com_player == \"바위\") and (user_player == \"보\")) or \\\n",
        "   ((com_player == \"보\") and (user_player == \"가위\")) :\n",
        "  print(\"이겼다.\")\n",
        "else : \n",
        "  print(\"졌다.\")\n",
        "count = count - 1"
      ],
      "metadata": {
        "colab": {
          "base_uri": "https://localhost:8080/",
          "height": 137
        },
        "id": "0UZ_aCfAYGmS",
        "outputId": "fa46c1f9-e853-4e50-9c14-1a1ce11a75a6"
      },
      "execution_count": 23,
      "outputs": [
        {
          "output_type": "error",
          "ename": "IndentationError",
          "evalue": "ignored",
          "traceback": [
            "\u001b[0;36m  File \u001b[0;32m\"<ipython-input-23-13bec185c7de>\"\u001b[0;36m, line \u001b[0;32m13\u001b[0m\n\u001b[0;31m    print(\"이겼다.\")\u001b[0m\n\u001b[0m        ^\u001b[0m\n\u001b[0;31mIndentationError\u001b[0m\u001b[0;31m:\u001b[0m expected an indented block\n"
          ]
        }
      ]
    }
  ]
}